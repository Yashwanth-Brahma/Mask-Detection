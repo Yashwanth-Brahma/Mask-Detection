{
 "cells": [
  {
   "cell_type": "code",
   "execution_count": 5,
   "metadata": {},
   "outputs": [],
   "source": [
    "from tensorflow.keras.applications.mobilenet_v2 import preprocess_input\n",
    "from tensorflow.keras.preprocessing.image import img_to_array\n",
    "from tensorflow.keras.models import load_model\n",
    "import numpy as np\n",
    "import os\n",
    "import cv2"
   ]
  },
  {
   "cell_type": "code",
   "execution_count": 6,
   "metadata": {},
   "outputs": [],
   "source": [
    "prototxtPath=os.path.sep.join([r'C:\\Users\\Yashwanth Brahma\\Documents\\Mask-Detection\\face-detectors','deploy.prototxt'])\n",
    "weightsPath=os.path.sep.join([r'C:\\Users\\Yashwanth Brahma\\Documents\\Mask-Detection\\face-detectors','res10_300x300_ssd_iter_140000.caffemodel'])"
   ]
  },
  {
   "cell_type": "code",
   "execution_count": 7,
   "metadata": {},
   "outputs": [],
   "source": [
    "net=cv2.dnn.readNet(prototxtPath,weightsPath)"
   ]
  },
  {
   "cell_type": "code",
   "execution_count": 8,
   "metadata": {},
   "outputs": [],
   "source": [
    "model=load_model(r'C:\\Users\\Yashwanth Brahma\\Documents\\Mask-Detection\\mobilenet_v2.model')"
   ]
  },
  {
   "cell_type": "code",
   "execution_count": 93,
   "metadata": {},
   "outputs": [],
   "source": [
    "image=cv2.imread(r'C:\\Users\\Yashwanth Brahma\\Documents\\Mask-Detection\\ex1.jpg')"
   ]
  },
  {
   "cell_type": "code",
   "execution_count": 94,
   "metadata": {},
   "outputs": [
    {
     "data": {
      "text/plain": [
       "array([[[ 22,  34,  36],\n",
       "        [ 12,  22,  22],\n",
       "        [  7,  12,  13],\n",
       "        ...,\n",
       "        [ 26,  26,  26],\n",
       "        [ 22,  22,  22],\n",
       "        [ 65,  65,  65]],\n",
       "\n",
       "       [[ 22,  34,  36],\n",
       "        [ 12,  22,  22],\n",
       "        [  7,  12,  13],\n",
       "        ...,\n",
       "        [ 23,  23,  23],\n",
       "        [ 19,  19,  19],\n",
       "        [ 63,  63,  63]],\n",
       "\n",
       "       [[ 22,  34,  36],\n",
       "        [ 12,  22,  22],\n",
       "        [  7,  12,  13],\n",
       "        ...,\n",
       "        [ 19,  19,  19],\n",
       "        [ 16,  16,  16],\n",
       "        [ 60,  60,  60]],\n",
       "\n",
       "       ...,\n",
       "\n",
       "       [[124, 107,  98],\n",
       "        [117, 104,  96],\n",
       "        [100,  92,  92],\n",
       "        ...,\n",
       "        [253, 242, 215],\n",
       "        [254, 243, 216],\n",
       "        [254, 243, 216]],\n",
       "\n",
       "       [[121, 106,  97],\n",
       "        [116, 105,  97],\n",
       "        [ 99,  91,  91],\n",
       "        ...,\n",
       "        [249, 238, 211],\n",
       "        [250, 239, 212],\n",
       "        [251, 240, 213]],\n",
       "\n",
       "       [[121, 106,  97],\n",
       "        [111, 100,  92],\n",
       "        [101,  93,  93],\n",
       "        ...,\n",
       "        [251, 240, 213],\n",
       "        [252, 241, 214],\n",
       "        [253, 242, 215]]], dtype=uint8)"
      ]
     },
     "execution_count": 94,
     "metadata": {},
     "output_type": "execute_result"
    }
   ],
   "source": [
    "image"
   ]
  },
  {
   "cell_type": "code",
   "execution_count": 95,
   "metadata": {},
   "outputs": [
    {
     "data": {
      "text/plain": [
       "(182, 277)"
      ]
     },
     "execution_count": 95,
     "metadata": {},
     "output_type": "execute_result"
    }
   ],
   "source": [
    "(h,w)=image.shape[:2]\n",
    "(h,w)"
   ]
  },
  {
   "cell_type": "code",
   "execution_count": 96,
   "metadata": {},
   "outputs": [],
   "source": [
    "blob=cv2.dnn.blobFromImage(image,1.0,(300,300),(104.0,177.0,123.0))"
   ]
  },
  {
   "cell_type": "code",
   "execution_count": 97,
   "metadata": {},
   "outputs": [
    {
     "data": {
      "text/plain": [
       "array([[[[ -82.,  -91.,  -96., ...,  -79.,  -77.,  -39.],\n",
       "         [ -82.,  -91.,  -96., ...,  -80.,  -78.,  -40.],\n",
       "         [ -82.,  -91.,  -96., ...,  -82.,  -80.,  -41.],\n",
       "         ...,\n",
       "         [  17.,   12.,   -2., ...,  145.,  146.,  147.],\n",
       "         [  17.,   10.,   -2., ...,  146.,  147.,  148.],\n",
       "         [  17.,    8.,   -1., ...,  147.,  148.,  149.]],\n",
       "\n",
       "        [[-143., -154., -163., ..., -152., -150., -112.],\n",
       "         [-143., -154., -163., ..., -153., -151., -113.],\n",
       "         [-143., -154., -163., ..., -155., -153., -114.],\n",
       "         ...,\n",
       "         [ -71.,  -72.,  -83., ...,   61.,   62.,   63.],\n",
       "         [ -71.,  -75.,  -83., ...,   62.,   63.,   64.],\n",
       "         [ -71.,  -76.,  -83., ...,   63.,   64.,   65.]],\n",
       "\n",
       "        [[ -87., -100., -108., ...,  -98.,  -96.,  -58.],\n",
       "         [ -87., -100., -108., ...,  -99.,  -97.,  -59.],\n",
       "         [ -87., -100., -109., ..., -101.,  -99.,  -60.],\n",
       "         ...,\n",
       "         [ -26.,  -26.,  -31., ...,   88.,   89.,   90.],\n",
       "         [ -26.,  -29.,  -31., ...,   89.,   90.,   91.],\n",
       "         [ -26.,  -31.,  -30., ...,   90.,   91.,   92.]]]], dtype=float32)"
      ]
     },
     "execution_count": 97,
     "metadata": {},
     "output_type": "execute_result"
    }
   ],
   "source": [
    "blob"
   ]
  },
  {
   "cell_type": "code",
   "execution_count": 98,
   "metadata": {},
   "outputs": [],
   "source": [
    "net.setInput(blob)\n",
    "detections=net.forward()"
   ]
  },
  {
   "cell_type": "code",
   "execution_count": 99,
   "metadata": {},
   "outputs": [],
   "source": [
    "for i in range(0,detections.shape[2]):\n",
    "    confidence=detections[0,0,i,2]\n",
    "    \n",
    "    if confidence>0.5:\n",
    "            box=detections[0,0,i,3:7]*np.array([w,h,w,h])\n",
    "            (startx,starty,endx,endy)=box.astype('int')\n",
    "            (startx,starty)=(max(0,startx),max(0,starty))\n",
    "            (endx,endy)=(min(w-1,endx),min(h-1,endy))\n",
    "            \n",
    "            face=image[starty:endy, startx:endx]\n",
    "            face=cv2.cvtColor(face,cv2.COLOR_BGR2RGB)\n",
    "            face=cv2.resize(face,(224,224))\n",
    "            face=img_to_array(face)\n",
    "            face=preprocess_input(face)\n",
    "            face=np.expand_dims(face,axis=0)\n",
    "            \n",
    "            (mask,withoutMask)=model.predict(face)[0]\n",
    "            \n",
    "            label='Mask' if mask>withoutMask else 'No Mask'\n",
    "            color=(0,255,0) if label=='Mask' else (0,0,255)\n",
    "            \n",
    "            label=\"{}: {:.2f}%\".format(label,max(mask,withoutMask)*100)\n",
    "            \n",
    "            cv2.putText(image,label,(startx,starty-10),cv2.FONT_HERSHEY_SIMPLEX,0.45,color,2)\n",
    "            cv2.rectangle(image,(startx,starty),(endx,endy),color,2)\n",
    "            \n",
    "\n",
    "cv2.imshow(\"outPut\",image)\n",
    "cv2.waitKey(0)\n",
    "cv2.destroyAllWindows()"
   ]
  },
  {
   "cell_type": "code",
   "execution_count": null,
   "metadata": {},
   "outputs": [],
   "source": []
  },
  {
   "cell_type": "code",
   "execution_count": null,
   "metadata": {},
   "outputs": [],
   "source": []
  }
 ],
 "metadata": {
  "kernelspec": {
   "display_name": "Python 3",
   "language": "python",
   "name": "python3"
  },
  "language_info": {
   "codemirror_mode": {
    "name": "ipython",
    "version": 3
   },
   "file_extension": ".py",
   "mimetype": "text/x-python",
   "name": "python",
   "nbconvert_exporter": "python",
   "pygments_lexer": "ipython3",
   "version": "3.7.3"
  }
 },
 "nbformat": 4,
 "nbformat_minor": 2
}
