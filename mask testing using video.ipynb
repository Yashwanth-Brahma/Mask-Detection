{
 "cells": [
  {
   "cell_type": "code",
   "execution_count": 2,
   "metadata": {},
   "outputs": [],
   "source": [
    "from tensorflow.keras.applications.mobilenet_v2 import preprocess_input\n",
    "from tensorflow.keras.preprocessing.image import img_to_array\n",
    "from tensorflow.keras.models import load_model\n",
    "import numpy as np\n",
    "import os\n",
    "import cv2\n",
    "from imutils.video import VideoStream\n",
    "import imutils"
   ]
  },
  {
   "cell_type": "code",
   "execution_count": 3,
   "metadata": {},
   "outputs": [],
   "source": [
    "def detect_and_predict_mask(frame,faceNet,maskNet):\n",
    "    (h,w)=frame.shape[:2]\n",
    "    blob=cv2.dnn.blobFromImage(frame,1.0,(300,300),(104.0,177.0,123.0))\n",
    "    faceNet.setInput(blob)\n",
    "    detections=faceNet.forward()\n",
    "    \n",
    "    faces=[]\n",
    "    locs=[]\n",
    "    preds=[]\n",
    "    \n",
    "    for i in range(0,detections.shape[2]):\n",
    "        confidence=detections[0,0,i,2]\n",
    "\n",
    "        if confidence>0.5:\n",
    "                box=detections[0,0,i,3:7]*np.array([w,h,w,h])\n",
    "                (startx,starty,endx,endy)=box.astype('int')\n",
    "                (startx,starty)=(max(0,startx),max(0,starty))\n",
    "                (endx,endy)=(min(w-1,endx),min(h-1,endy))\n",
    "\n",
    "                face=frame[starty:endy, startx:endx]\n",
    "                face=cv2.cvtColor(face,cv2.COLOR_BGR2RGB)\n",
    "                face=cv2.resize(face,(224,224))\n",
    "                face=img_to_array(face)\n",
    "                face=preprocess_input(face)\n",
    "\n",
    "                faces.append(face)\n",
    "                locs.append((startx,starty,endx,endy))\n",
    "\n",
    "        if len(faces)>0:\n",
    "            faces=np.array(faces,dtype='float32')\n",
    "            preds=maskNet.predict(faces,batch_size=12)\n",
    "            \n",
    "        return (locs,preds)"
   ]
  },
  {
   "cell_type": "code",
   "execution_count": 4,
   "metadata": {},
   "outputs": [],
   "source": [
    "prototxtPath=os.path.sep.join([r'C:\\Users\\Yashwanth Brahma\\Documents\\Mask-Detection\\face-detectors','deploy.prototxt'])\n",
    "weightsPath=os.path.sep.join([r'C:\\Users\\Yashwanth Brahma\\Documents\\Mask-Detection\\face-detectors','res10_300x300_ssd_iter_140000.caffemodel'])"
   ]
  },
  {
   "cell_type": "code",
   "execution_count": 5,
   "metadata": {},
   "outputs": [],
   "source": [
    "faceNet=cv2.dnn.readNet(prototxtPath,weightsPath)"
   ]
  },
  {
   "cell_type": "code",
   "execution_count": 6,
   "metadata": {},
   "outputs": [],
   "source": [
    "maskNet=load_model(r'C:\\Users\\Yashwanth Brahma\\Documents\\Mask-Detection\\mobilenet_v2.model')"
   ]
  },
  {
   "cell_type": "code",
   "execution_count": 11,
   "metadata": {},
   "outputs": [],
   "source": [
    "vs=VideoStream(src=0).start()\n",
    "\n",
    "while True:\n",
    "    frame=vs.read()\n",
    "    frame=imutils.resize(frame,width=400)\n",
    "    \n",
    "    (locs,preds)=detect_and_predict_mask(frame,faceNet,maskNet)\n",
    "    \n",
    "    for (box,pred) in zip(locs,preds):\n",
    "        (startx,starty,endx,endy)=box\n",
    "        (mask,withoutMask)=pred\n",
    "        \n",
    "        label='Mask' if mask>withoutMask else 'No Mask'\n",
    "        color=(0,255,0) if label=='Mask' else (0,0,255)\n",
    "\n",
    "        label=\"{}: {:.2f}%\".format(label,max(mask,withoutMask)*100)\n",
    "\n",
    "        cv2.putText(frame,label,(startx,starty-10),cv2.FONT_HERSHEY_SIMPLEX,0.45,color,2)\n",
    "        cv2.rectangle(frame,(startx,starty),(endx,endy),color,2)\n",
    "\n",
    "    cv2.imshow(\"Frame\",frame)\n",
    "    key=cv2.waitKey(1) & 0xFF\n",
    "    \n",
    "    if key==ord('q'):\n",
    "        break\n",
    "        \n",
    "\n",
    "cv2.destroyAllWindows()\n",
    "vs.stop()\n",
    "del(vs)\n"
   ]
  },
  {
   "cell_type": "code",
   "execution_count": 9,
   "metadata": {},
   "outputs": [],
   "source": []
  },
  {
   "cell_type": "code",
   "execution_count": null,
   "metadata": {},
   "outputs": [],
   "source": []
  }
 ],
 "metadata": {
  "kernelspec": {
   "display_name": "Python 3",
   "language": "python",
   "name": "python3"
  },
  "language_info": {
   "codemirror_mode": {
    "name": "ipython",
    "version": 3
   },
   "file_extension": ".py",
   "mimetype": "text/x-python",
   "name": "python",
   "nbconvert_exporter": "python",
   "pygments_lexer": "ipython3",
   "version": "3.7.3"
  }
 },
 "nbformat": 4,
 "nbformat_minor": 2
}
